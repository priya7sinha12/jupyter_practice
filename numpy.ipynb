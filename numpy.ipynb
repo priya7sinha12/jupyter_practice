{
 "cells": [
  {
   "cell_type": "code",
   "execution_count": 1,
   "id": "ec3cbb05",
   "metadata": {},
   "outputs": [],
   "source": [
    "import numpy as np"
   ]
  },
  {
   "cell_type": "code",
   "execution_count": 2,
   "id": "d07ca512",
   "metadata": {},
   "outputs": [
    {
     "data": {
      "text/plain": [
       "array([ 2, 11,  3,  5, 33, 89, 23, 54, 87, 86, 75, 34, 78, 35,  2,  4, 77,\n",
       "        2, 87,  2,  5, 87, 89,  2])"
      ]
     },
     "execution_count": 2,
     "metadata": {},
     "output_type": "execute_result"
    }
   ],
   "source": [
    "arr1=np.array([2,11,3,5,33,89,23,54,87,86,75,34,78,35,2,4,77,2,87,2,5,87,89,2])\n",
    "arr1"
   ]
  },
  {
   "cell_type": "code",
   "execution_count": 3,
   "id": "9aac1bcc",
   "metadata": {},
   "outputs": [
    {
     "data": {
      "text/plain": [
       "89"
      ]
     },
     "execution_count": 3,
     "metadata": {},
     "output_type": "execute_result"
    }
   ],
   "source": [
    "arr1.max()"
   ]
  },
  {
   "cell_type": "code",
   "execution_count": 4,
   "id": "4bb8b20c",
   "metadata": {},
   "outputs": [
    {
     "data": {
      "text/plain": [
       "2"
      ]
     },
     "execution_count": 4,
     "metadata": {},
     "output_type": "execute_result"
    }
   ],
   "source": [
    "arr1.min()"
   ]
  },
  {
   "cell_type": "code",
   "execution_count": 5,
   "id": "4d744ef1",
   "metadata": {},
   "outputs": [
    {
     "data": {
      "text/plain": [
       "5"
      ]
     },
     "execution_count": 5,
     "metadata": {},
     "output_type": "execute_result"
    }
   ],
   "source": [
    "arr1.argmax() #gives index of max element of array"
   ]
  },
  {
   "cell_type": "code",
   "execution_count": 6,
   "id": "97938fd5",
   "metadata": {},
   "outputs": [
    {
     "data": {
      "text/plain": [
       "0"
      ]
     },
     "execution_count": 6,
     "metadata": {},
     "output_type": "execute_result"
    }
   ],
   "source": [
    "arr1.argmin()"
   ]
  },
  {
   "cell_type": "code",
   "execution_count": 7,
   "id": "b12866f8",
   "metadata": {},
   "outputs": [
    {
     "data": {
      "text/plain": [
       "array([0.69314718, 2.39789527, 1.09861229, 1.60943791, 3.49650756,\n",
       "       4.48863637, 3.13549422, 3.98898405, 4.46590812, 4.4543473 ,\n",
       "       4.31748811, 3.52636052, 4.35670883, 3.55534806, 0.69314718,\n",
       "       1.38629436, 4.34380542, 0.69314718, 4.46590812, 0.69314718,\n",
       "       1.60943791, 4.46590812, 4.48863637, 0.69314718])"
      ]
     },
     "execution_count": 7,
     "metadata": {},
     "output_type": "execute_result"
    }
   ],
   "source": [
    "np.log(arr1)"
   ]
  },
  {
   "cell_type": "code",
   "execution_count": 8,
   "id": "a078af9a",
   "metadata": {},
   "outputs": [
    {
     "data": {
      "text/plain": [
       "array([ 0.90929743, -0.99999021,  0.14112001, -0.95892427,  0.99991186,\n",
       "        0.86006941, -0.8462204 , -0.55878905, -0.82181784, -0.92345845,\n",
       "       -0.38778164,  0.52908269,  0.51397846, -0.42818267,  0.90929743,\n",
       "       -0.7568025 ,  0.99952016,  0.90929743, -0.82181784,  0.90929743,\n",
       "       -0.95892427, -0.82181784,  0.86006941,  0.90929743])"
      ]
     },
     "execution_count": 8,
     "metadata": {},
     "output_type": "execute_result"
    }
   ],
   "source": [
    "np.sin(arr1)"
   ]
  },
  {
   "cell_type": "code",
   "execution_count": 9,
   "id": "9c80e5ed",
   "metadata": {},
   "outputs": [
    {
     "data": {
      "text/plain": [
       "array([7.38905610e+00, 5.98741417e+04, 2.00855369e+01, 1.48413159e+02,\n",
       "       2.14643580e+14, 4.48961282e+38, 9.74480345e+09, 2.83075330e+23,\n",
       "       6.07603023e+37, 2.23524660e+37, 3.73324200e+32, 5.83461743e+14,\n",
       "       7.49841700e+33, 1.58601345e+15, 7.38905610e+00, 5.45981500e+01,\n",
       "       2.75851345e+33, 7.38905610e+00, 6.07603023e+37, 7.38905610e+00,\n",
       "       1.48413159e+02, 6.07603023e+37, 4.48961282e+38, 7.38905610e+00])"
      ]
     },
     "execution_count": 9,
     "metadata": {},
     "output_type": "execute_result"
    }
   ],
   "source": [
    "np.exp(arr1)"
   ]
  },
  {
   "cell_type": "code",
   "execution_count": 10,
   "id": "051a844f",
   "metadata": {},
   "outputs": [
    {
     "data": {
      "text/plain": [
       "36.14092786117516"
      ]
     },
     "execution_count": 10,
     "metadata": {},
     "output_type": "execute_result"
    }
   ],
   "source": [
    "np.std(arr1) #gives standard deviation of array"
   ]
  },
  {
   "cell_type": "code",
   "execution_count": 11,
   "id": "ef6df045",
   "metadata": {},
   "outputs": [
    {
     "data": {
      "text/plain": [
       "40.5"
      ]
     },
     "execution_count": 11,
     "metadata": {},
     "output_type": "execute_result"
    }
   ],
   "source": [
    "np.mean(arr1)"
   ]
  },
  {
   "cell_type": "code",
   "execution_count": 12,
   "id": "e2009f81",
   "metadata": {},
   "outputs": [
    {
     "data": {
      "text/plain": [
       "1306.1666666666667"
      ]
     },
     "execution_count": 12,
     "metadata": {},
     "output_type": "execute_result"
    }
   ],
   "source": [
    "np.var(arr1) # gives variance of array"
   ]
  },
  {
   "cell_type": "code",
   "execution_count": 13,
   "id": "fe67c399",
   "metadata": {},
   "outputs": [
    {
     "data": {
      "text/plain": [
       "array([11,  3,  5, 33, 89])"
      ]
     },
     "execution_count": 13,
     "metadata": {},
     "output_type": "execute_result"
    }
   ],
   "source": [
    "arr1[1:6]"
   ]
  },
  {
   "cell_type": "code",
   "execution_count": 14,
   "id": "83e791c8",
   "metadata": {},
   "outputs": [
    {
     "data": {
      "text/plain": [
       "array([ 6, 23, 12, 75, 44, 33, 21])"
      ]
     },
     "execution_count": 14,
     "metadata": {},
     "output_type": "execute_result"
    }
   ],
   "source": [
    "list=[6,23,12,75,44,33,21]\n",
    "arr2=np.array(list)\n",
    "arr2"
   ]
  },
  {
   "cell_type": "code",
   "execution_count": 15,
   "id": "f8642706",
   "metadata": {},
   "outputs": [
    {
     "data": {
      "text/plain": [
       "array([ 4,  5,  6,  7,  8,  9, 10, 11, 12, 13, 14])"
      ]
     },
     "execution_count": 15,
     "metadata": {},
     "output_type": "execute_result"
    }
   ],
   "source": [
    "arr3=np.arange(4,15)\n",
    "arr3"
   ]
  },
  {
   "cell_type": "code",
   "execution_count": 16,
   "id": "cba15cf1",
   "metadata": {},
   "outputs": [
    {
     "data": {
      "text/plain": [
       "array([ 1,  9, 17, 25, 33, 41, 49, 57, 65, 73, 81, 89, 97])"
      ]
     },
     "execution_count": 16,
     "metadata": {},
     "output_type": "execute_result"
    }
   ],
   "source": [
    "arr4=np.arange(1,100,8)\n",
    "arr4"
   ]
  },
  {
   "cell_type": "code",
   "execution_count": 17,
   "id": "e8845a26",
   "metadata": {},
   "outputs": [
    {
     "data": {
      "text/plain": [
       "array([0, 0, 0, 0, 0, 0, 0])"
      ]
     },
     "execution_count": 17,
     "metadata": {},
     "output_type": "execute_result"
    }
   ],
   "source": [
    "arr5=np.zeros(7,int)\n",
    "arr5"
   ]
  },
  {
   "cell_type": "code",
   "execution_count": 18,
   "id": "5c68d6e7",
   "metadata": {},
   "outputs": [
    {
     "data": {
      "text/plain": [
       "array([1., 1., 1., 1., 1., 1., 1., 1., 1.])"
      ]
     },
     "execution_count": 18,
     "metadata": {},
     "output_type": "execute_result"
    }
   ],
   "source": [
    "arr6=np.ones(9,float)\n",
    "arr6"
   ]
  },
  {
   "cell_type": "code",
   "execution_count": 19,
   "id": "34467405",
   "metadata": {},
   "outputs": [
    {
     "data": {
      "text/plain": [
       "array([[1, 0, 0, 0, 0],\n",
       "       [0, 1, 0, 0, 0],\n",
       "       [0, 0, 1, 0, 0],\n",
       "       [0, 0, 0, 1, 0],\n",
       "       [0, 0, 0, 0, 1]])"
      ]
     },
     "execution_count": 19,
     "metadata": {},
     "output_type": "execute_result"
    }
   ],
   "source": [
    "arr7=np.eye(5,dtype=int)\n",
    "arr7"
   ]
  },
  {
   "cell_type": "code",
   "execution_count": 20,
   "id": "f2408930",
   "metadata": {},
   "outputs": [
    {
     "data": {
      "text/plain": [
       "array([ 7.        , 15.11111111, 23.22222222, 31.33333333, 39.44444444,\n",
       "       47.55555556, 55.66666667, 63.77777778, 71.88888889, 80.        ])"
      ]
     },
     "execution_count": 20,
     "metadata": {},
     "output_type": "execute_result"
    }
   ],
   "source": [
    "arr8=np.linspace(7,80,10)\n",
    "arr8"
   ]
  },
  {
   "cell_type": "code",
   "execution_count": 21,
   "id": "dce47bdc",
   "metadata": {},
   "outputs": [
    {
     "data": {
      "text/plain": [
       "array([[0.06472258, 0.37535264, 0.62516439, 0.47546155, 0.9405816 ],\n",
       "       [0.56367535, 0.62895854, 0.88351674, 0.67121031, 0.1506282 ],\n",
       "       [0.52906472, 0.46295505, 0.30934267, 0.29273248, 0.68818882]])"
      ]
     },
     "execution_count": 21,
     "metadata": {},
     "output_type": "execute_result"
    }
   ],
   "source": [
    "arr9=np.random.rand(3,5)\n",
    "arr9"
   ]
  },
  {
   "cell_type": "code",
   "execution_count": 22,
   "id": "26c310eb",
   "metadata": {},
   "outputs": [
    {
     "data": {
      "text/plain": [
       "array([[0.0647, 0.3754, 0.6252, 0.4755, 0.9406],\n",
       "       [0.5637, 0.629 , 0.8835, 0.6712, 0.1506],\n",
       "       [0.5291, 0.463 , 0.3093, 0.2927, 0.6882]])"
      ]
     },
     "execution_count": 22,
     "metadata": {},
     "output_type": "execute_result"
    }
   ],
   "source": [
    "arr9.round(4)"
   ]
  },
  {
   "cell_type": "code",
   "execution_count": 23,
   "id": "1101dd08",
   "metadata": {},
   "outputs": [
    {
     "data": {
      "text/plain": [
       "array([[-0.25584185,  1.07598127, -0.96466347,  0.62043946],\n",
       "       [-0.78769097, -1.20808561, -1.93007212, -0.37851264],\n",
       "       [ 0.26998134, -1.72261455,  0.5427151 , -0.39132689],\n",
       "       [ 0.7858164 ,  0.59202168,  0.47951919, -0.29987449]])"
      ]
     },
     "execution_count": 23,
     "metadata": {},
     "output_type": "execute_result"
    }
   ],
   "source": [
    "arr10=np.random.randn(4,4)\n",
    "arr10"
   ]
  },
  {
   "cell_type": "code",
   "execution_count": 24,
   "id": "eb6290e4",
   "metadata": {},
   "outputs": [
    {
     "data": {
      "text/plain": [
       "17"
      ]
     },
     "execution_count": 24,
     "metadata": {},
     "output_type": "execute_result"
    }
   ],
   "source": [
    "arr11=np.random.randint(1,100) \n",
    "arr11"
   ]
  },
  {
   "cell_type": "code",
   "execution_count": 25,
   "id": "cbc707b4",
   "metadata": {},
   "outputs": [
    {
     "data": {
      "text/plain": [
       "array([ 2,  3,  4,  5,  6,  7,  8,  9, 10, 11, 12, 13, 14, 15, 16, 17, 18,\n",
       "       19])"
      ]
     },
     "execution_count": 25,
     "metadata": {},
     "output_type": "execute_result"
    }
   ],
   "source": [
    "arr12=np.arange(2,20)\n",
    "arr12"
   ]
  },
  {
   "cell_type": "code",
   "execution_count": 26,
   "id": "41f7fce1",
   "metadata": {},
   "outputs": [
    {
     "data": {
      "text/plain": [
       "array([[ 2,  3,  4,  5,  6,  7],\n",
       "       [ 8,  9, 10, 11, 12, 13],\n",
       "       [14, 15, 16, 17, 18, 19]])"
      ]
     },
     "execution_count": 26,
     "metadata": {},
     "output_type": "execute_result"
    }
   ],
   "source": [
    "arr13=np.reshape(arr12,(3,6))\n",
    "arr13"
   ]
  },
  {
   "cell_type": "code",
   "execution_count": 27,
   "id": "30408a81",
   "metadata": {},
   "outputs": [
    {
     "data": {
      "text/plain": [
       "18"
      ]
     },
     "execution_count": 27,
     "metadata": {},
     "output_type": "execute_result"
    }
   ],
   "source": [
    "arr13.size"
   ]
  },
  {
   "cell_type": "code",
   "execution_count": 28,
   "id": "fb62497d",
   "metadata": {},
   "outputs": [
    {
     "data": {
      "text/plain": [
       "(3, 6)"
      ]
     },
     "execution_count": 28,
     "metadata": {},
     "output_type": "execute_result"
    }
   ],
   "source": [
    "arr13.shape"
   ]
  },
  {
   "cell_type": "code",
   "execution_count": 29,
   "id": "71a600be",
   "metadata": {},
   "outputs": [
    {
     "data": {
      "text/plain": [
       "array([ 2,  3,  4,  5,  6,  7,  8,  9, 10, 11, 12, 13, 14, 15, 16, 17, 18,\n",
       "       19])"
      ]
     },
     "execution_count": 29,
     "metadata": {},
     "output_type": "execute_result"
    }
   ],
   "source": [
    "arr13.ravel()"
   ]
  },
  {
   "cell_type": "code",
   "execution_count": 30,
   "id": "db2d3946",
   "metadata": {},
   "outputs": [
    {
     "data": {
      "text/plain": [
       "array([[ 2,  8, 14],\n",
       "       [ 3,  9, 15],\n",
       "       [ 4, 10, 16],\n",
       "       [ 5, 11, 17],\n",
       "       [ 6, 12, 18],\n",
       "       [ 7, 13, 19]])"
      ]
     },
     "execution_count": 30,
     "metadata": {},
     "output_type": "execute_result"
    }
   ],
   "source": [
    "arr14=arr13.T #for matrix transpose\n",
    "arr14"
   ]
  },
  {
   "cell_type": "code",
   "execution_count": 31,
   "id": "5861b735",
   "metadata": {},
   "outputs": [
    {
     "data": {
      "text/plain": [
       "array([[  2,   8,  14],\n",
       "       [  3,   9,  15],\n",
       "       [  4,  10,  16],\n",
       "       [100, 100, 100],\n",
       "       [  6,  12,  18],\n",
       "       [  7,  13,  19]])"
      ]
     },
     "execution_count": 31,
     "metadata": {},
     "output_type": "execute_result"
    }
   ],
   "source": [
    "arr14[3]=100\n",
    "arr14"
   ]
  },
  {
   "cell_type": "code",
   "execution_count": 32,
   "id": "df7df2d3",
   "metadata": {},
   "outputs": [
    {
     "data": {
      "text/plain": [
       "array([[  2,   8],\n",
       "       [  3,   9],\n",
       "       [  4,  10],\n",
       "       [100, 100],\n",
       "       [  6,  12],\n",
       "       [  7,  13]])"
      ]
     },
     "execution_count": 32,
     "metadata": {},
     "output_type": "execute_result"
    }
   ],
   "source": [
    "arr14[:,:2]"
   ]
  },
  {
   "cell_type": "code",
   "execution_count": 33,
   "id": "0ea9014f",
   "metadata": {},
   "outputs": [
    {
     "data": {
      "text/plain": [
       "array([[  4,  10,  16],\n",
       "       [100, 100, 100],\n",
       "       [  6,  12,  18]])"
      ]
     },
     "execution_count": 33,
     "metadata": {},
     "output_type": "execute_result"
    }
   ],
   "source": [
    "arr14[2:5,:]"
   ]
  },
  {
   "cell_type": "code",
   "execution_count": 34,
   "id": "c737b29e",
   "metadata": {},
   "outputs": [
    {
     "data": {
      "text/plain": [
       "array([[  4,  16,  28],\n",
       "       [  6,  18,  30],\n",
       "       [  8,  20,  32],\n",
       "       [200, 200, 200],\n",
       "       [ 12,  24,  36],\n",
       "       [ 14,  26,  38]])"
      ]
     },
     "execution_count": 34,
     "metadata": {},
     "output_type": "execute_result"
    }
   ],
   "source": [
    "arr14+arr14"
   ]
  },
  {
   "cell_type": "code",
   "execution_count": null,
   "id": "0a78dece",
   "metadata": {},
   "outputs": [],
   "source": []
  }
 ],
 "metadata": {
  "kernelspec": {
   "display_name": "Python 3 (ipykernel)",
   "language": "python",
   "name": "python3"
  },
  "language_info": {
   "codemirror_mode": {
    "name": "ipython",
    "version": 3
   },
   "file_extension": ".py",
   "mimetype": "text/x-python",
   "name": "python",
   "nbconvert_exporter": "python",
   "pygments_lexer": "ipython3",
   "version": "3.9.12"
  }
 },
 "nbformat": 4,
 "nbformat_minor": 5
}
